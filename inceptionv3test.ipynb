{
 "cells": [
  {
   "cell_type": "code",
   "execution_count": 3,
   "id": "e269a476",
   "metadata": {},
   "outputs": [],
   "source": [
    "import tensorflow as tf\n",
    "from tensorflow.keras.preprocessing.image import ImageDataGenerator\n",
    "from tensorflow.keras.applications import InceptionV3\n",
    "from tensorflow.keras.models import Sequential\n",
    "from tensorflow.keras.layers import Dense, Dropout, Flatten\n",
    "from sklearn.metrics import accuracy_score, confusion_matrix\n",
    "import seaborn as sns\n",
    "import matplotlib.pyplot as plt\n",
    "import numpy as np\n",
    "import os"
   ]
  },
  {
   "cell_type": "code",
   "execution_count": 4,
   "id": "b2214839",
   "metadata": {},
   "outputs": [
    {
     "name": "stdout",
     "output_type": "stream",
     "text": [
      "Found 532 images belonging to 2 classes.\n",
      "Found 132 images belonging to 2 classes.\n"
     ]
    }
   ],
   "source": [
    "data_dir = 'C:/Users/sanja/OneDrive/Desktop/poultry/nameing'\n",
    "datagen = ImageDataGenerator(rescale=1.0/255.0, validation_split=0.2)  \n",
    "\n",
    "train_gen = datagen.flow_from_directory(\n",
    "    data_dir,\n",
    "    target_size=(299, 299),  \n",
    "    batch_size=32,\n",
    "    class_mode='binary',\n",
    "    subset='training',\n",
    "    shuffle=False\n",
    ")\n",
    "\n",
    "val_gen = datagen.flow_from_directory(\n",
    "    data_dir,\n",
    "    target_size=(299, 299),\n",
    "    batch_size=32,\n",
    "    class_mode='binary',\n",
    "    subset='validation',\n",
    "    shuffle=False\n",
    ")\n"
   ]
  },
  {
   "cell_type": "code",
   "execution_count": 5,
   "id": "0b029528",
   "metadata": {},
   "outputs": [
    {
     "name": "stdout",
     "output_type": "stream",
     "text": [
      "17/17 [==============================] - 68s 4s/step\n",
      "5/5 [==============================] - 18s 3s/step\n"
     ]
    }
   ],
   "source": [
    "base_model = InceptionV3(weights='imagenet', include_top=False, input_shape=(299, 299, 3))\n",
    "\n",
    "\n",
    "train_features = base_model.predict(train_gen)\n",
    "train_labels = train_gen.classes\n",
    "\n",
    "\n",
    "val_features = base_model.predict(val_gen)\n",
    "val_labels = val_gen.classes\n",
    "\n",
    "\n",
    "train_features_flattened = train_features.reshape(train_features.shape[0], -1)\n",
    "val_features_flattened = val_features.reshape(val_features.shape[0], -1)\n",
    "\n",
    "\n",
    "model = Sequential([\n",
    "    Dense(1024, activation='relu', input_shape=(train_features_flattened.shape[1],)),\n",
    "    Dropout(0.5),\n",
    "    Dense(1, activation='sigmoid')\n",
    "])\n",
    "\n",
    "\n",
    "model.compile(optimizer='adam', loss='binary_crossentropy', metrics=['accuracy'])"
   ]
  },
  {
   "cell_type": "code",
   "execution_count": 6,
   "id": "17cad50d",
   "metadata": {},
   "outputs": [
    {
     "name": "stdout",
     "output_type": "stream",
     "text": [
      "Epoch 1/10\n",
      "17/17 [==============================] - 28s 1s/step - loss: 36.1809 - accuracy: 0.6203 - val_loss: 12.6840 - val_accuracy: 0.6970\n",
      "Epoch 2/10\n",
      "17/17 [==============================] - 20s 1s/step - loss: 5.3753 - accuracy: 0.8647 - val_loss: 12.9580 - val_accuracy: 0.6970\n",
      "Epoch 3/10\n",
      "17/17 [==============================] - 20s 1s/step - loss: 2.8057 - accuracy: 0.9173 - val_loss: 8.5430 - val_accuracy: 0.7348\n",
      "Epoch 4/10\n",
      "17/17 [==============================] - 20s 1s/step - loss: 1.1864 - accuracy: 0.9436 - val_loss: 7.0027 - val_accuracy: 0.7424\n",
      "Epoch 5/10\n",
      "17/17 [==============================] - 20s 1s/step - loss: 1.3495 - accuracy: 0.9380 - val_loss: 6.3728 - val_accuracy: 0.7652\n",
      "Epoch 6/10\n",
      "17/17 [==============================] - 20s 1s/step - loss: 0.8276 - accuracy: 0.9680 - val_loss: 6.5852 - val_accuracy: 0.7500\n",
      "Epoch 7/10\n",
      "17/17 [==============================] - 19s 1s/step - loss: 0.7619 - accuracy: 0.9568 - val_loss: 4.3804 - val_accuracy: 0.7955\n",
      "Epoch 8/10\n",
      "17/17 [==============================] - 19s 1s/step - loss: 1.2391 - accuracy: 0.9417 - val_loss: 4.9402 - val_accuracy: 0.7424\n",
      "Epoch 9/10\n",
      "17/17 [==============================] - 20s 1s/step - loss: 1.0835 - accuracy: 0.9568 - val_loss: 6.8620 - val_accuracy: 0.7197\n",
      "Epoch 10/10\n",
      "17/17 [==============================] - 21s 1s/step - loss: 0.6130 - accuracy: 0.9718 - val_loss: 5.3843 - val_accuracy: 0.7576\n"
     ]
    }
   ],
   "source": [
    "history = model.fit(\n",
    "    train_features_flattened, train_labels,\n",
    "    validation_data=(val_features_flattened, val_labels),\n",
    "    epochs=10,  \n",
    "    batch_size=32\n",
    ")\n",
    "\n",
    "\n",
    "model.save('path_to_save_model/my_model_inceptionv310.h5')"
   ]
  },
  {
   "cell_type": "code",
   "execution_count": null,
   "id": "a6c7b6bc",
   "metadata": {},
   "outputs": [],
   "source": [
    "\n"
   ]
  },
  {
   "cell_type": "code",
   "execution_count": 2,
   "id": "941061c8",
   "metadata": {},
   "outputs": [
    {
     "name": "stdout",
     "output_type": "stream",
     "text": [
      "1/1 [==============================] - 4s 4s/step\n",
      "1/1 [==============================] - 2s 2s/step\n",
      "Found 17 images belonging to 2 classes.\n",
      "17/17 [==============================] - 11s 264ms/step\n",
      "1/1 [==============================] - 0s 320ms/step\n",
      "Test Accuracy: 82.35%\n"
     ]
    }
   ],
   "source": [
    "import numpy as np\n",
    "import tkinter as tk\n",
    "from tkinter import filedialog, Button, Label\n",
    "from PIL import Image as PILImage, ImageTk\n",
    "from tensorflow.keras.models import load_model\n",
    "from tensorflow.keras.applications.inception_v3 import InceptionV3\n",
    "from tensorflow.keras.preprocessing.image import ImageDataGenerator\n",
    "from sklearn.metrics import accuracy_score\n",
    "import matplotlib.pyplot as plt\n",
    "from threading import Thread\n",
    "\n",
    "model = load_model(r\"C:/Users/sanja/OneDrive/Desktop/poultry/path_to_save_model/my_model_inceptionv310.h5\")\n",
    "\n",
    "base_model = InceptionV3(weights='imagenet', include_top=False, input_shape=(299, 299, 3))\n",
    "\n",
    "def detect_disease(image_path, result_label, image_label):\n",
    "    img = PILImage.open(image_path)\n",
    "    img = img.resize((299, 299))\n",
    "    img_array = np.array(img) / 255.0\n",
    "    img_array = np.expand_dims(img_array, axis=0)\n",
    "    features = base_model.predict(img_array)\n",
    "    features_flattened = features.reshape(features.shape[0], -1)\n",
    "    prediction = model.predict(features_flattened)\n",
    "    predicted_class = np.round(prediction).astype(int)[0][0]\n",
    "    class_names = ['Healthy', 'UnHealthy']\n",
    "    result = class_names[predicted_class]\n",
    "\n",
    "    img = PILImage.open(image_path)\n",
    "    img = img.resize((250, 250))\n",
    "    img_tk = ImageTk.PhotoImage(img)\n",
    "    image_label.config(image=img_tk)\n",
    "    image_label.image = img_tk\n",
    "    result_label.config(text=f\"Detection Result: {result}\")\n",
    "\n",
    "def evaluate_model():\n",
    "   \n",
    "    test_datagen = ImageDataGenerator(rescale=1.0/255.0)\n",
    "    test_gen = test_datagen.flow_from_directory(\n",
    "        r'C:\\Users\\sanja\\OneDrive\\Desktop\\poultry\\testing', \n",
    "        target_size=(299, 299),\n",
    "        batch_size=1,  \n",
    "        class_mode='binary',\n",
    "        shuffle=False\n",
    "    )\n",
    "\n",
    "    test_features = base_model.predict(test_gen)\n",
    "    test_features_flattened = test_features.reshape(test_features.shape[0], -1)\n",
    "    predictions = model.predict(test_features_flattened)\n",
    "    predicted_classes = np.round(predictions).astype(int)\n",
    "\n",
    "    true_labels = test_gen.classes\n",
    "    accuracy = accuracy_score(true_labels, predicted_classes)\n",
    "    print(f\"Test Accuracy: {accuracy * 100:.2f}%\")\n",
    "    return accuracy\n",
    "\n",
    "def upload_image():\n",
    "   \n",
    "    file_path = filedialog.askopenfilename(filetypes=[(\"Image files\", \"*.jpg *.jpeg *.png *.webp \")])\n",
    "    if file_path:\n",
    "        detect_disease(file_path, result_label, image_label)\n",
    "\n",
    "def on_evaluate_button_click():\n",
    "    Thread(target=lambda: evaluate_model()).start()\n",
    "\n",
    "root = tk.Tk()\n",
    "root.title(\"Chicken Disease Detection\")\n",
    "\n",
    "label = Label(root, text=\"Upload an image of the chicken for disease detection:\")\n",
    "label.pack(pady=20)\n",
    "\n",
    "upload_button = Button(root, text=\"Upload Image\", command=upload_image)\n",
    "upload_button.pack(pady=20)\n",
    "\n",
    "image_label = Label(root)\n",
    "image_label.pack(pady=20)\n",
    "\n",
    "result_label = Label(root, text=\"Detection Result: \")\n",
    "result_label.pack(pady=20)\n",
    "\n",
    "evaluate_button = Button(root, text=\"Evaluate Model\", command=on_evaluate_button_click)\n",
    "evaluate_button.pack(pady=20)\n",
    "\n",
    "root.mainloop()\n"
   ]
  },
  {
   "cell_type": "code",
   "execution_count": 5,
   "id": "c2fa49e9",
   "metadata": {},
   "outputs": [],
   "source": [
    "\n",
    "\n",
    "\n",
    "\n"
   ]
  },
  {
   "cell_type": "code",
   "execution_count": 6,
   "id": "9c56d153",
   "metadata": {},
   "outputs": [],
   "source": [
    "\n"
   ]
  },
  {
   "cell_type": "code",
   "execution_count": 7,
   "id": "9fd7f637",
   "metadata": {},
   "outputs": [],
   "source": []
  },
  {
   "cell_type": "code",
   "execution_count": 1,
   "id": "a9669ca9",
   "metadata": {},
   "outputs": [],
   "source": [
    "\n"
   ]
  },
  {
   "cell_type": "code",
   "execution_count": 8,
   "id": "39366f9d",
   "metadata": {},
   "outputs": [],
   "source": []
  },
  {
   "cell_type": "code",
   "execution_count": null,
   "id": "ce56b0b8",
   "metadata": {},
   "outputs": [],
   "source": []
  }
 ],
 "metadata": {
  "kernelspec": {
   "display_name": "Python 3 (ipykernel)",
   "language": "python",
   "name": "python3"
  },
  "language_info": {
   "codemirror_mode": {
    "name": "ipython",
    "version": 3
   },
   "file_extension": ".py",
   "mimetype": "text/x-python",
   "name": "python",
   "nbconvert_exporter": "python",
   "pygments_lexer": "ipython3",
   "version": "3.9.13"
  }
 },
 "nbformat": 4,
 "nbformat_minor": 5
}
